{
 "cells": [
  {
   "cell_type": "markdown",
   "metadata": {},
   "source": [
    "Pandas library allows to read different data to\n",
    "[Supported readers](http://pandas.pydata.org/pandas-docs/version/0.20/io.html)"
   ]
  },
  {
   "cell_type": "code",
   "execution_count": 1,
   "metadata": {
    "collapsed": true
   },
   "outputs": [],
   "source": [
    "# loading module 'pandas' to read data from excel file and manipulate by DataFrame (analog of sheets in Excel)\n",
    "import pandas as pd"
   ]
  },
  {
   "cell_type": "code",
   "execution_count": 2,
   "metadata": {
    "collapsed": false,
    "scrolled": true
   },
   "outputs": [],
   "source": [
    "# Data readers to take data from file system or by http from internet\n",
    "from pandas_datareader import data as web, wb, get_data_yahoo\n",
    "# To set timestamps\n",
    "from datetime import datetime"
   ]
  },
  {
   "cell_type": "code",
   "execution_count": 7,
   "metadata": {
    "collapsed": false
   },
   "outputs": [],
   "source": [
    "# take data for Credit Suisse and Nokia, Dolby\n",
    "tech_list = ['CS', 'NOK', 'DLB']\n",
    "end_date = datetime.now()\n",
    "# take datetime for one year ago\n",
    "start_date = datetime(end_date.year-1, end_date.month, end_date.day)"
   ]
  },
  {
   "cell_type": "code",
   "execution_count": 9,
   "metadata": {
    "collapsed": false
   },
   "outputs": [],
   "source": [
    "# Save data to excel file\n",
    "# Initializing excel writer\n",
    "excel_writer = pd.ExcelWriter('stock_data.xlsx')\n",
    "for stock in tech_list:\n",
    "    #frame_to_save = web.DataReader(stock, 'yahoo', start_date, end_date)\n",
    "    frame_to_save = get_data_yahoo(stock, start_date, end_date)\n",
    "    frame_to_save.to_excel(excel_writer, stock)\n",
    "excel_writer.save()"
   ]
  }
 ],
 "metadata": {
  "kernelspec": {
   "display_name": "Python 3",
   "language": "python",
   "name": "python3"
  },
  "language_info": {
   "codemirror_mode": {
    "name": "ipython",
    "version": 3
   },
   "file_extension": ".py",
   "mimetype": "text/x-python",
   "name": "python",
   "nbconvert_exporter": "python",
   "pygments_lexer": "ipython3",
   "version": "3.6.0"
  }
 },
 "nbformat": 4,
 "nbformat_minor": 2
}

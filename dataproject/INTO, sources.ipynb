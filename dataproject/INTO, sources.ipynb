{
 "cells": [
  {
   "cell_type": "markdown",
   "metadata": {},
   "source": [
    "Data set resources:\n",
    "1.[data.gov](https://catalog.data.gov/dataset)\n",
    "\n",
    "2.[amazon.com](http://aws.amazon.com/public-data-sets/)\n",
    "\n",
    "3.[google](http://www.google.com/publicdata/directory)\n",
    "\n",
    "4.[kaggle](http://www.kaggle.com/c/titanic/data)"
   ]
  }
 ],
 "metadata": {
  "kernelspec": {
   "display_name": "Python 3",
   "language": "python",
   "name": "python3"
  },
  "language_info": {
   "codemirror_mode": {
    "name": "ipython",
    "version": 3
   },
   "file_extension": ".py",
   "mimetype": "text/x-python",
   "name": "python",
   "nbconvert_exporter": "python",
   "pygments_lexer": "ipython3",
   "version": "3.6.1"
  }
 },
 "nbformat": 4,
 "nbformat_minor": 2
}
